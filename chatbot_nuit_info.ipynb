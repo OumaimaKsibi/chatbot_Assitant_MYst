{
 "cells": [
  {
   "cell_type": "code",
   "execution_count": 3,
   "id": "01c54309-825f-42dc-84bf-94abe5559ee4",
   "metadata": {
    "tags": []
   },
   "outputs": [
    {
     "name": "stdin",
     "output_type": "stream",
     "text": [
      "Voulez-vous discuter avec le chatbot ou jouer au quiz ? (chat/quiz/exit) :  chat\n"
     ]
    },
    {
     "name": "stdout",
     "output_type": "stream",
     "text": [
      "\n",
      "--- Chatbot ---\n",
      "\n"
     ]
    },
    {
     "name": "stdin",
     "output_type": "stream",
     "text": [
      "Vous:  bonjour\n"
     ]
    },
    {
     "name": "stdout",
     "output_type": "stream",
     "text": [
      "Chatbot: Hello! Welcome\n"
     ]
    },
    {
     "name": "stdin",
     "output_type": "stream",
     "text": [
      "Vous:  donnez la definition de l'eau\n"
     ]
    },
    {
     "name": "stdout",
     "output_type": "stream",
     "text": [
      "Chatbot: L'eau est une substance chimique essentielle à la vie sur Terre. Sa formule chimique est H₂O, ce qui signifie qu'elle est constituée de deux atomes d'hydrogène liés à un atome d'oxygène.\n"
     ]
    },
    {
     "name": "stdin",
     "output_type": "stream",
     "text": [
      "Vous:  comment économiser cette petite quantite\n"
     ]
    },
    {
     "name": "stdout",
     "output_type": "stream",
     "text": [
      "Chatbot: Collecte de l'eau de pluie, réutilisation des eaux usées (comme dans l'agriculture), utilisation de technologies économes en eau (comme les dispositifs à faible débit), et la sensibilisation à l'utilisation responsable de l'eau. Des techniques comme l'irrigation goutte-à-goutte et la gestion des ressources en eau dans les zones urbaines sont aussi cruciales.\n"
     ]
    },
    {
     "name": "stdin",
     "output_type": "stream",
     "text": [
      "Vous:  quiz\n"
     ]
    },
    {
     "name": "stdout",
     "output_type": "stream",
     "text": [
      "\n",
      "--- Bienvenue au Quiz sur l'Eau et l'Océan ! ---\n",
      "\n",
      "Question : Quelle est la formule chimique de l'eau ?\n",
      "1. H2O\n",
      "2. H2O2\n",
      "3. CO2\n",
      "4. O2\n"
     ]
    },
    {
     "name": "stdin",
     "output_type": "stream",
     "text": [
      "Votre réponse (1-4 ou 'chat' pour passer au chatbot, 'exit' pour quitter) :  1\n"
     ]
    },
    {
     "name": "stdout",
     "output_type": "stream",
     "text": [
      "Correct! 👍\n",
      "\n",
      "Question : Quel pourcentage de l'eau de la Terre est potable ?\n",
      "1. 1%\n",
      "2. 3%\n",
      "3. 10%\n",
      "4. 25%\n"
     ]
    },
    {
     "name": "stdin",
     "output_type": "stream",
     "text": [
      "Votre réponse (1-4 ou 'chat' pour passer au chatbot, 'exit' pour quitter) :  1\n"
     ]
    },
    {
     "name": "stdout",
     "output_type": "stream",
     "text": [
      "Correct! 👍\n",
      "\n",
      "Question : Quel est l'impact principal du changement climatique sur l'océan ?\n",
      "1. Chauffe l'océan\n",
      "2. Réduit le niveau de la mer\n",
      "3. Accélère la fonte des glaciers\n",
      "4. Augmente les poissons\n"
     ]
    },
    {
     "name": "stdin",
     "output_type": "stream",
     "text": [
      "Votre réponse (1-4 ou 'chat' pour passer au chatbot, 'exit' pour quitter) :  3\n"
     ]
    },
    {
     "name": "stdout",
     "output_type": "stream",
     "text": [
      "Correct! 👍\n",
      "\n",
      "Question : Quel est le rôle des récifs coralliens ?\n",
      "1. Protéger les côtes\n",
      "2. Produire de l'oxygène\n",
      "3. Pollution des océans\n",
      "4. Augmenter la température des océans\n"
     ]
    },
    {
     "name": "stdin",
     "output_type": "stream",
     "text": [
      "Votre réponse (1-4 ou 'chat' pour passer au chatbot, 'exit' pour quitter) :  chat\n",
      "Voulez-vous discuter avec le chatbot ou jouer au quiz ? (chat/quiz/exit) :  exit\n"
     ]
    },
    {
     "name": "stdout",
     "output_type": "stream",
     "text": [
      "Au revoir! À bientôt.\n"
     ]
    }
   ],
   "source": [
    "import nltk\n",
    "from nltk.chat.util import Chat, reflections\n",
    "\n",
    "# Liste des paires de questions et réponses pour le chatbot\n",
    "pairs = [\n",
    "    [r\"bonjour|salut|hello|bonsoir|coucou\", [\"Hello! Welcome\"]],\n",
    "    [r\"(.*)eau(.*)\", [\"L'eau est une substance chimique essentielle à la vie sur Terre. Sa formule chimique est H₂O, ce qui signifie qu'elle est constituée de deux atomes d'hydrogène liés à un atome d'oxygène.\"]],\n",
    "    [r\"(.*)océan(.*)\", [\"L'Océan et le corps humain partagent des similarités fascinantes dans leur fonctionnement et dysfonctionnement. En faisant des parallèles entre ces deux systèmes (corps humain et Océan), nous pourrons encore mieux illustrer et comprendre l'importance cruciale de préserver l’Océan, garant de la vie sur Terre.\"]],\n",
    "    [r\"(.*)causes(.*)pénurie d'eau(.*)\", [\"Saison de sécheresse prolongée, la croissance démographique rapide, l'urbanisation qui augmente la demande en eau, la pollution de l'eau qui rend les sources d'eau inutilisables, et le changement climatique qui altère les schémas de précipitations.\"]],\n",
    "    [r\"(.*)changement climatique(.*)\", [\"Le changement climatique modifie les précipitations, rendant certaines régions plus sèches et d'autres plus humides. Il affecte également l'évaporation et les températures, ce qui peut entraîner une fonte accélérée des glaciers et une élévation du niveau de la mer, perturbant ainsi le cycle naturel de l'eau.\"]],\n",
    "    [r\"(.*)économiser(.*)\", [\"Collecte de l'eau de pluie, réutilisation des eaux usées (comme dans l'agriculture), utilisation de technologies économes en eau (comme les dispositifs à faible débit), et la sensibilisation à l'utilisation responsable de l'eau. Des techniques comme l'irrigation goutte-à-goutte et la gestion des ressources en eau dans les zones urbaines sont aussi cruciales.\"]]\n",
    "]\n",
    "\n",
    "# Fonction pour le chatbot\n",
    "chat = Chat(pairs, reflections)\n",
    "\n",
    "# Liste des questions pour le quiz\n",
    "quiz_questions = [\n",
    "    {\n",
    "        \"question\": \"Quelle est la formule chimique de l'eau ?\",\n",
    "        \"options\": [\"H2O\", \"H2O2\", \"CO2\", \"O2\"],\n",
    "        \"answer\": \"H2O\"\n",
    "    },\n",
    "    {\n",
    "        \"question\": \"Quel pourcentage de l'eau de la Terre est potable ?\",\n",
    "        \"options\": [\"1%\", \"3%\", \"10%\", \"25%\"],\n",
    "        \"answer\": \"1%\"\n",
    "    },\n",
    "    {\n",
    "        \"question\": \"Quel est l'impact principal du changement climatique sur l'océan ?\",\n",
    "        \"options\": [\"Chauffe l'océan\", \"Réduit le niveau de la mer\", \"Accélère la fonte des glaciers\", \"Augmente les poissons\"],\n",
    "        \"answer\": \"Accélère la fonte des glaciers\"\n",
    "    },\n",
    "    {\n",
    "        \"question\": \"Quel est le rôle des récifs coralliens ?\",\n",
    "        \"options\": [\"Protéger les côtes\", \"Produire de l'oxygène\", \"Pollution des océans\", \"Augmenter la température des océans\"],\n",
    "        \"answer\": \"Protéger les côtes\"\n",
    "    }\n",
    "]\n",
    "\n",
    "# Fonction pour le quiz\n",
    "def quiz_game():\n",
    "    score = 0\n",
    "    print(\"\\n--- Bienvenue au Quiz sur l'Eau et l'Océan ! ---\\n\")\n",
    "    for q in quiz_questions:\n",
    "        print(f\"Question : {q['question']}\")\n",
    "        for i, option in enumerate(q['options'], 1):\n",
    "            print(f\"{i}. {option}\")\n",
    "        \n",
    "        user_answer = input(\"Votre réponse (1-4 ou 'chat' pour passer au chatbot, 'exit' pour quitter) : \").strip().lower()\n",
    "        \n",
    "        if user_answer == \"chat\":\n",
    "            return \"chat\"\n",
    "        elif user_answer == \"exit\":\n",
    "            return \"exit\"\n",
    "        elif q['options'][int(user_answer) - 1] == q['answer']:\n",
    "            score += 1\n",
    "            print(\"Correct! 👍\\n\")\n",
    "        else:\n",
    "            print(f\"Incorrect! La bonne réponse est : {q['answer']}\\n\")\n",
    "    \n",
    "    print(f\"Votre score : {score}/{len(quiz_questions)}\")\n",
    "    print(\"\\n--- Quiz terminé ---\\n\")\n",
    "    return \"menu\"\n",
    "\n",
    "# Fonction principale pour gérer le chatbot et le quiz\n",
    "def chatbot_session():\n",
    "    print(\"\\n--- Chatbot ---\\n\")\n",
    "    while True:\n",
    "        user_input = input(\"Vous: \").lower()\n",
    "        if user_input == \"quiz\":\n",
    "            return \"quiz\"\n",
    "        elif user_input == \"exit\":\n",
    "            return \"exit\"\n",
    "        else:\n",
    "            print(\"Chatbot:\", chat.respond(user_input))\n",
    "\n",
    "def main():\n",
    "    while True:\n",
    "        user_input = input(\"Voulez-vous discuter avec le chatbot ou jouer au quiz ? (chat/quiz/exit) : \").lower()\n",
    "        \n",
    "        if user_input == \"chat\":\n",
    "            next_step = chatbot_session()\n",
    "            if next_step == \"quiz\":\n",
    "                quiz_result = quiz_game()\n",
    "                if quiz_result == \"exit\":\n",
    "                    continue\n",
    "            elif next_step == \"exit\":\n",
    "                continue\n",
    "        \n",
    "        elif user_input == \"quiz\":\n",
    "            quiz_result = quiz_game()\n",
    "            if quiz_result == \"chat\":\n",
    "                next_step = chatbot_session()\n",
    "                if next_step == \"exit\":\n",
    "                    continue\n",
    "            elif quiz_result == \"exit\":\n",
    "                continue\n",
    "\n",
    "        elif user_input == \"exit\":\n",
    "            print(\"Au revoir! À bientôt.\")\n",
    "            break\n",
    "\n",
    "        else:\n",
    "            print(\"Choix non valide, tapez 'chat' pour discuter, 'quiz' pour jouer au quiz, ou 'exit' pour quitter.\")\n",
    "\n",
    "# Lancer le programme\n",
    "if __name__ == \"__main__\":\n",
    "    main()\n"
   ]
  },
  {
   "cell_type": "code",
   "execution_count": null,
   "id": "8800d5ae-c0e0-4473-815f-ccb02c6f6454",
   "metadata": {},
   "outputs": [],
   "source": []
  }
 ],
 "metadata": {
  "kernelspec": {
   "display_name": "Python 3 (ipykernel)",
   "language": "python",
   "name": "python3"
  },
  "language_info": {
   "codemirror_mode": {
    "name": "ipython",
    "version": 3
   },
   "file_extension": ".py",
   "mimetype": "text/x-python",
   "name": "python",
   "nbconvert_exporter": "python",
   "pygments_lexer": "ipython3",
   "version": "3.11.5"
  }
 },
 "nbformat": 4,
 "nbformat_minor": 5
}
